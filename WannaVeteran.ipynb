{
 "cells": [
  {
   "cell_type": "code",
   "execution_count": 1,
   "metadata": {
    "id": "Zm6aP-msG8bv"
   },
   "outputs": [],
   "source": [
    "import numpy as np\n",
    "import pandas as pd\n",
    "pd.set_option(\"display.max_row\", 50)\n",
    "pd.set_option(\"display.max_column\", 50)\n",
    "\n",
    "from sklearn.model_selection import train_test_split\n",
    "\n",
    "from sklearn.model_selection import GridSearchCV\n",
    "from sklearn.model_selection import RandomizedSearchCV\n",
    "\n",
    "from sklearn.model_selection import StratifiedKFold\n",
    "\n",
    "from sklearn.ensemble import ExtraTreesClassifier\n",
    "\n",
    "from sklearn.metrics import roc_auc_score\n",
    "from sklearn.model_selection import cross_val_score\n",
    "\n",
    "import gc\n",
    "import re\n",
    "import os\n",
    "import time\n",
    "import random\n",
    "import platform\n",
    "import datetime as dt\n",
    "from tqdm import tqdm\n",
    "from itertools import combinations\n",
    "from scipy.stats.mstats import gmean\n",
    "import warnings; warnings.filterwarnings(\"ignore\")"
   ]
  },
  {
   "cell_type": "code",
   "execution_count": 2,
   "metadata": {
    "id": "SecAe2F2G-dk"
   },
   "outputs": [],
   "source": [
    "train = pd.read_csv('../data/trainset.csv')\n",
    "test = pd.read_csv('../data/testset_final.csv')\n",
    "submission = pd.read_csv('../data/sample_submission_final.csv')"
   ]
  },
  {
   "cell_type": "code",
   "execution_count": 3,
   "metadata": {
    "id": "aEN90vdUHBtl"
   },
   "outputs": [],
   "source": [
    "# train test 겹치지 않는 열 삭제\n",
    "train = train.drop(columns=['매니저최초가입일' , '매니저최초서비스일','매니저주소'])"
   ]
  },
  {
   "cell_type": "code",
   "execution_count": 4,
   "metadata": {
    "id": "oiiXYQcnHLlI"
   },
   "outputs": [],
   "source": [
    "# 매니저 생년만 반환\n",
    "train['매니저생년월일'] = train['매니저생년월일'].apply(lambda x: int(str(x)[:-6]))"
   ]
  },
  {
   "cell_type": "code",
   "execution_count": 5,
   "metadata": {
    "id": "Sl_KxJfLHR0s"
   },
   "outputs": [],
   "source": [
    "tr = pd.concat([train, test])"
   ]
  },
  {
   "cell_type": "code",
   "execution_count": 6,
   "metadata": {
    "id": "Hbah2uqTHYG4"
   },
   "outputs": [],
   "source": [
    "#To Fill\n",
    "col1 = {'평수':'없음',\n",
    "        '결재형태' : '신용카드',\n",
    "        '고객가입일' : '2020-06-23',\n",
    "        '반려동물':'없음',\n",
    "        '부재중여부': '모름',\n",
    "        '우선청소' :'없음',\n",
    "        '매니저사용휴대폰': '안드로이드',\n",
    "        '매니저이동방법': '대중교통',\n",
    "        'CS교육이수여부': 0,\n",
    "        '청소교육이수여부': 0}\n",
    "#To drop\n",
    "col2 = {'접수시각', '매칭성공여부'}"
   ]
  },
  {
   "cell_type": "code",
   "execution_count": 7,
   "metadata": {
    "id": "swqsnZk2HY1H"
   },
   "outputs": [],
   "source": [
    "tr = tr.fillna(col1)\n",
    "tr = tr.drop(col2, axis='columns')"
   ]
  },
  {
   "cell_type": "code",
   "execution_count": 8,
   "metadata": {
    "id": "1BBzZtvMHZoc"
   },
   "outputs": [],
   "source": [
    "# 접수 월,일 생성\n",
    "tr['접수월'] = tr['접수일'].apply(lambda x: x[5:7]).astype(int)\n",
    "tr['접수일일'] = tr['접수일'].apply(lambda x: x[-2:]).astype(int)"
   ]
  },
  {
   "cell_type": "code",
   "execution_count": 9,
   "metadata": {
    "id": "gDMyvr4_HbFb"
   },
   "outputs": [],
   "source": [
    "# 최초서비스일,서비스일자 datetime으로 변경\n",
    "tr.최초서비스일 = pd.to_datetime(tr.최초서비스일)\n",
    "tr.서비스일자 = pd.to_datetime(pd.to_datetime(tr.서비스일자))"
   ]
  },
  {
   "cell_type": "code",
   "execution_count": 10,
   "metadata": {
    "id": "kvd153smHcAU"
   },
   "outputs": [],
   "source": [
    "# 사용자가 서비스를 이용한 기간 생성\n",
    "tr['서비스이용기간'] = tr.서비스일자-tr.최초서비스일"
   ]
  },
  {
   "cell_type": "code",
   "execution_count": 11,
   "metadata": {
    "id": "LauKzcppHdUs"
   },
   "outputs": [],
   "source": [
    "tr['서비스이용기간'] = tr['서비스이용기간'].apply(lambda x: int(str(x)[:-14]))"
   ]
  },
  {
   "cell_type": "code",
   "execution_count": 12,
   "metadata": {
    "id": "ZNMYNOCeHeLu"
   },
   "outputs": [],
   "source": [
    "def age(x):\n",
    "    if x < 1960:\n",
    "        return 1\n",
    "    elif x < 1970:\n",
    "        return 2\n",
    "    elif x < 1980:\n",
    "        return 3\n",
    "    elif x < 1990:\n",
    "        return 4\n",
    "    else:\n",
    "        return 5"
   ]
  },
  {
   "cell_type": "code",
   "execution_count": 13,
   "metadata": {
    "id": "zRnIvgOKHe1u"
   },
   "outputs": [],
   "source": [
    "# 매니저 생년으로 연령대 생성\n",
    "tr['매니저연령대'] = tr['매니저생년월일'].apply(lambda x: age(x))"
   ]
  },
  {
   "cell_type": "code",
   "execution_count": 14,
   "metadata": {
    "id": "943UIuuQHfjn"
   },
   "outputs": [],
   "source": [
    "def pet(x):\n",
    "    if x == '없음':\n",
    "        return 1\n",
    "    else:\n",
    "        return 0"
   ]
  },
  {
   "cell_type": "code",
   "execution_count": 15,
   "metadata": {
    "id": "wi_ZvdtxHgiW"
   },
   "outputs": [],
   "source": [
    "# 반려동물여부 생성\n",
    "tr['반려동물여부'] = tr['반려동물'].apply(lambda x: pet(x))"
   ]
  },
  {
   "cell_type": "code",
   "execution_count": 16,
   "metadata": {
    "id": "4X2yZqXzHhVU"
   },
   "outputs": [],
   "source": [
    "# 매니저 매칭에 영향을 미치는 여러 특성을 고려하여 점수화 함\n",
    "tr['종합지수'] = tr['부재중서비스가능여부'] - tr['쿠폰사용여부'] + tr['CS교육이수여부'] + tr['청소교육이수여부'] + tr['추천인여부'] + tr['반려동물여부']"
   ]
  },
  {
   "cell_type": "code",
   "execution_count": 17,
   "metadata": {
    "id": "ylIM6_AXHiJB"
   },
   "outputs": [],
   "source": [
    "# 서비스 시작 시간\n",
    "tr['서비스시작시간_2'] = tr['서비스시작시간'].apply(lambda x: int(x[:-6]))"
   ]
  },
  {
   "cell_type": "code",
   "execution_count": 18,
   "metadata": {
    "id": "vrEdlBs1HjNw"
   },
   "outputs": [],
   "source": [
    "def hour(x):\n",
    "    if x <=12 and x >= 6:\n",
    "        return 0\n",
    "    else:\n",
    "        return 1"
   ]
  },
  {
   "cell_type": "code",
   "execution_count": 19,
   "metadata": {
    "id": "Ni-JNHFuHnvn"
   },
   "outputs": [],
   "source": [
    "# 서비스 시작 시간 범주화\n",
    "tr['서비스시간대'] = tr['서비스시작시간_2'].apply(lambda x: hour(x))"
   ]
  },
  {
   "cell_type": "code",
   "execution_count": 20,
   "metadata": {
    "id": "pb5uMOhgHsFh"
   },
   "outputs": [],
   "source": [
    "tr = tr.drop(columns = '서비스시작시간_2', axis=1)"
   ]
  },
  {
   "cell_type": "code",
   "execution_count": 21,
   "metadata": {
    "id": "MSaz6dc3HtBS"
   },
   "outputs": [],
   "source": [
    "def house_size(x):\n",
    "    if x == '10평대':\n",
    "        return 1\n",
    "    elif x == '20평대':\n",
    "        return 2\n",
    "    elif x == '30평대':\n",
    "        return 3\n",
    "    elif x == '모름':\n",
    "        return 0\n",
    "    else:\n",
    "        return 4"
   ]
  },
  {
   "cell_type": "code",
   "execution_count": 22,
   "metadata": {
    "id": "llFgT4kLHt-0"
   },
   "outputs": [],
   "source": [
    "# 평수 범주화\n",
    "tr['평수_1'] = tr['평수'].apply(lambda x: house_size(x))"
   ]
  },
  {
   "cell_type": "code",
   "execution_count": 23,
   "metadata": {
    "id": "SkyvR7ByHvDu"
   },
   "outputs": [],
   "source": [
    "def house_type(x):\n",
    "    if x == '일반주택':\n",
    "        return 1\n",
    "    else:\n",
    "        return 2"
   ]
  },
  {
   "cell_type": "code",
   "execution_count": 24,
   "metadata": {
    "id": "QTcles5oHwQi"
   },
   "outputs": [],
   "source": [
    "# 주거형태 범주화\n",
    "tr['주거형태_1'] = tr['주거형태'].apply(lambda x: house_type(x))"
   ]
  },
  {
   "cell_type": "code",
   "execution_count": 25,
   "metadata": {
    "id": "WXA81rLiHxF-"
   },
   "outputs": [],
   "source": [
    "# 주거 가중치\n",
    "tr['주거가중치'] = tr['주거형태_1'] + tr['평수_1']"
   ]
  },
  {
   "cell_type": "code",
   "execution_count": 26,
   "metadata": {
    "id": "SR1PaF8JHx1Q"
   },
   "outputs": [],
   "source": [
    "tr = tr.drop(columns =['평수_1','주거형태_1'], axis=1)"
   ]
  },
  {
   "cell_type": "code",
   "execution_count": 27,
   "metadata": {
    "id": "hTKnxV9VHyrZ"
   },
   "outputs": [],
   "source": [
    "tr = tr.replace('수도권', '서울/경기/인천')\n",
    "tr = tr.replace('천안/아산', '충남/천안/아산')"
   ]
  },
  {
   "cell_type": "code",
   "execution_count": 28,
   "metadata": {
    "id": "lhTNtmvJHzZ_"
   },
   "outputs": [],
   "source": [
    "# 서비스 주소 범주화\n",
    "region = []\n",
    "for i in tr.서비스주소 :\n",
    "    region.append(i[:2])\n",
    "\n",
    "tr['서비스주소_광역'] = region"
   ]
  },
  {
   "cell_type": "code",
   "execution_count": 29,
   "metadata": {
    "id": "vLl1-_C4H0PF"
   },
   "outputs": [],
   "source": [
    "# 서비스 시작,종로 시간 datetime으로 변경\n",
    "tr['서비스시작시간'] = pd.to_datetime(pd.to_datetime(tr.서비스시작시간))\n",
    "tr['서비스종료시간'] = pd.to_datetime(pd.to_datetime(tr.서비스종료시간))"
   ]
  },
  {
   "cell_type": "code",
   "execution_count": 30,
   "metadata": {
    "id": "UiDTt1rpH1Hr"
   },
   "outputs": [],
   "source": [
    "# 서비스 시간\n",
    "tr['서비스시간'] = tr['서비스종료시간'].dt.hour - tr['서비스시작시간'].dt.hour "
   ]
  },
  {
   "cell_type": "code",
   "execution_count": 31,
   "metadata": {
    "id": "-H2LV9DAH16e"
   },
   "outputs": [],
   "source": [
    "# 접수일 datetime\n",
    "tr['접수일'] = pd.to_datetime(pd.to_datetime(tr['접수일']))"
   ]
  },
  {
   "cell_type": "code",
   "execution_count": 32,
   "metadata": {
    "id": "t87h90WUH2vj"
   },
   "outputs": [],
   "source": [
    "# 서비스대기기간\n",
    "tr['서비스대기기간'] = (tr['최초서비스일'] - tr['접수일']).apply(lambda x: int(str(x)[:-14]))"
   ]
  },
  {
   "cell_type": "code",
   "execution_count": 33,
   "metadata": {
    "id": "xqvy40b_H3fN"
   },
   "outputs": [],
   "source": [
    "# 접수요일\n",
    "tr['접수요일'] = tr['접수일'].dt.weekday"
   ]
  },
  {
   "cell_type": "code",
   "execution_count": 34,
   "metadata": {
    "id": "F6UgrtMWH4Tl"
   },
   "outputs": [],
   "source": [
    "# 매니저 현재 나이\n",
    "tr['매니저나이'] = 2021 - tr['매니저생년월일']"
   ]
  },
  {
   "cell_type": "code",
   "execution_count": 35,
   "metadata": {
    "colab": {
     "base_uri": "https://localhost:8080/"
    },
    "id": "flXggxIcH5Ed",
    "outputId": "17eb7cf4-4a76-44d9-fbdd-8d0cb20c66f6"
   },
   "outputs": [
    {
     "data": {
      "text/plain": [
       "count    23009.000000\n",
       "mean         4.642357\n",
       "std          2.323255\n",
       "min          1.000000\n",
       "25%          4.000000\n",
       "50%          4.000000\n",
       "75%          4.000000\n",
       "max         30.000000\n",
       "Name: 전체회차, dtype: float64"
      ]
     },
     "execution_count": 35,
     "metadata": {},
     "output_type": "execute_result"
    }
   ],
   "source": [
    "train['전체회차'].describe()"
   ]
  },
  {
   "cell_type": "code",
   "execution_count": 36,
   "metadata": {
    "id": "7xHife9YH5uS"
   },
   "outputs": [],
   "source": [
    "# 장기 단기 고객\n",
    "def service(x):\n",
    "    if x >= 5:\n",
    "        return '장기'\n",
    "    else:\n",
    "        return '단기'\n",
    "\n",
    "train['서비스이용기준'] = train['전체회차'].apply(lambda x: service(x))"
   ]
  },
  {
   "cell_type": "code",
   "execution_count": 37,
   "metadata": {
    "id": "T13hOkADH6tZ"
   },
   "outputs": [],
   "source": [
    "# 고객 가입일 datetime\n",
    "tr['고객가입일'] = pd.to_datetime(pd.to_datetime(tr.고객가입일))"
   ]
  },
  {
   "cell_type": "code",
   "execution_count": 38,
   "metadata": {
    "id": "QeoOlyu7H7aw"
   },
   "outputs": [],
   "source": [
    "tr['고객가입일'] = tr['최초서비스일'] - tr['고객가입일']"
   ]
  },
  {
   "cell_type": "code",
   "execution_count": 39,
   "metadata": {
    "id": "nGb4K5UCH8Mq"
   },
   "outputs": [],
   "source": [
    "tr['고객가입일'] = tr['고객가입일'].apply(lambda x : int(str(x)[:-14]))"
   ]
  },
  {
   "cell_type": "code",
   "execution_count": 40,
   "metadata": {
    "id": "jRy1lHVDH81z"
   },
   "outputs": [],
   "source": [
    "tr = tr.astype({'매니저나이': 'object'})\n",
    "tr = tr.astype({'매니저연령대': 'object'})"
   ]
  },
  {
   "cell_type": "code",
   "execution_count": 41,
   "metadata": {
    "id": "1OSXP8OGH9l-"
   },
   "outputs": [],
   "source": [
    "# 시간 열 제거\n",
    "col3 = {'서비스시작시간','서비스종료시간'}      \n",
    "tr = tr.drop(col3, axis='columns')"
   ]
  },
  {
   "cell_type": "code",
   "execution_count": 42,
   "metadata": {
    "id": "vOgdqt-6H-Wp"
   },
   "outputs": [],
   "source": [
    "# 범주형 Feature로 변환\n",
    "tl = ['접수일', '최초서비스일', '서비스일자', '고객가입일', '매니저성별', '매니저생년월일', '접수월', '접수일일', '접수요일']\n",
    "for i in tl:\n",
    "    tr[i] = tr[i].astype('object')"
   ]
  },
  {
   "cell_type": "code",
   "execution_count": 43,
   "metadata": {
    "colab": {
     "base_uri": "https://localhost:8080/"
    },
    "id": "Z6LtmJ09S9Pc",
    "outputId": "3d8e1891-6446-4ebb-ebf4-493fe5fc8e51"
   },
   "outputs": [
    {
     "name": "stdout",
     "output_type": "stream",
     "text": [
      "<class 'pandas.core.frame.DataFrame'>\n",
      "Int64Index: 27253 entries, 0 to 4243\n",
      "Data columns (total 39 columns):\n",
      " #   Column      Non-Null Count  Dtype  \n",
      "---  ------      --------------  -----  \n",
      " 0   SEQ         27253 non-null  object \n",
      " 1   접수일         27253 non-null  object \n",
      " 2   장기서비스여부     27253 non-null  int64  \n",
      " 3   최초서비스일      27253 non-null  object \n",
      " 4   전체회차        27253 non-null  int64  \n",
      " 5   현재회차        27253 non-null  int64  \n",
      " 6   서비스일자       27253 non-null  object \n",
      " 7   기존고객여부      27253 non-null  int64  \n",
      " 8   결재형태        27253 non-null  object \n",
      " 9   서비스주소       27253 non-null  object \n",
      " 10  주거형태        27253 non-null  object \n",
      " 11  평수          27253 non-null  object \n",
      " 12  고객가입일       27253 non-null  object \n",
      " 13  반려동물        27253 non-null  object \n",
      " 14  부재중여부       27253 non-null  object \n",
      " 15  우선청소        27253 non-null  object \n",
      " 16  쿠폰사용여부      27253 non-null  int64  \n",
      " 17  매니저생년월일     27253 non-null  object \n",
      " 18  매니저성별       27253 non-null  object \n",
      " 19  매니저사용휴대폰    27253 non-null  object \n",
      " 20  매니저이동방법     27253 non-null  object \n",
      " 21  근무가능지역      27253 non-null  object \n",
      " 22  CS교육이수여부    27253 non-null  float64\n",
      " 23  청소교육이수여부    27253 non-null  float64\n",
      " 24  부재중서비스가능여부  27253 non-null  int64  \n",
      " 25  추천인여부       27253 non-null  int64  \n",
      " 26  접수월         27253 non-null  object \n",
      " 27  접수일일        27253 non-null  object \n",
      " 28  서비스이용기간     27253 non-null  int64  \n",
      " 29  매니저연령대      27253 non-null  object \n",
      " 30  반려동물여부      27253 non-null  int64  \n",
      " 31  종합지수        27253 non-null  float64\n",
      " 32  서비스시간대      27253 non-null  int64  \n",
      " 33  주거가중치       27253 non-null  int64  \n",
      " 34  서비스주소_광역    27253 non-null  object \n",
      " 35  서비스시간       27253 non-null  int64  \n",
      " 36  서비스대기기간     27253 non-null  int64  \n",
      " 37  접수요일        27253 non-null  object \n",
      " 38  매니저나이       27253 non-null  object \n",
      "dtypes: float64(3), int64(13), object(23)\n",
      "memory usage: 8.3+ MB\n"
     ]
    }
   ],
   "source": [
    "tr.info()"
   ]
  },
  {
   "cell_type": "code",
   "execution_count": 44,
   "metadata": {
    "colab": {
     "base_uri": "https://localhost:8080/"
    },
    "id": "FoUucIZGX2tN",
    "outputId": "5f8506cf-a953-4a1e-ee2c-944d46dded89"
   },
   "outputs": [
    {
     "data": {
      "text/plain": [
       "충남    18164\n",
       "서울     3558\n",
       "강원     3325\n",
       "광주      825\n",
       "부산      805\n",
       "경기      533\n",
       "경남       43\n",
       "Name: 서비스주소_광역, dtype: int64"
      ]
     },
     "execution_count": 44,
     "metadata": {},
     "output_type": "execute_result"
    }
   ],
   "source": [
    "tr.서비스주소_광역.value_counts()"
   ]
  },
  {
   "cell_type": "code",
   "execution_count": 45,
   "metadata": {
    "id": "wuJpf82GXh0t"
   },
   "outputs": [],
   "source": [
    "# 평수 주거형태 반려동물 매니저사용휴대폰 서비스주소_광역"
   ]
  },
  {
   "cell_type": "code",
   "execution_count": 46,
   "metadata": {
    "id": "Pp3p2MXqZMoE"
   },
   "outputs": [],
   "source": [
    "train_data = tr[0:len(train)]\n",
    "train_label = train.매칭성공여부\n",
    "train_data['매칭성공여부'] = train_label"
   ]
  },
  {
   "cell_type": "code",
   "execution_count": 47,
   "metadata": {
    "id": "46Jojjn8Yfph"
   },
   "outputs": [],
   "source": [
    "# categorical_cols = ['평수' '주거형태' '반려동물' '매니저사용휴대폰' '서비스주소_광역']"
   ]
  },
  {
   "cell_type": "code",
   "execution_count": 48,
   "metadata": {
    "id": "LimTNkTIaH99"
   },
   "outputs": [],
   "source": [
    "def one_hot_encoder(df, categorical_columns=None, nan_as_category=True):\n",
    "    \"\"\"Create a new column for each categorical value in categorical columns. \"\"\"\n",
    "    original_columns = list(df.columns)\n",
    "    if not categorical_columns:\n",
    "        categorical_columns = [col for col in df.columns if df[col].dtype == 'object'] #None로 정의\n",
    "    df = pd.get_dummies(df, columns=categorical_columns, dummy_na=nan_as_category) #더미변수화\n",
    "    categorical_columns = [c for c in df.columns if c not in original_columns]\n",
    "    return df, categorical_columns"
   ]
  },
  {
   "cell_type": "code",
   "execution_count": 49,
   "metadata": {
    "id": "HqWjMLlaS9YY"
   },
   "outputs": [],
   "source": [
    "categorical_columns=None\n",
    "nan_as_category=True\n",
    "original_columns = list(train.columns)\n",
    "categorical_columns = [col for col in tr.columns if tr[col].dtype == 'object'] # object변수 뽑기"
   ]
  },
  {
   "cell_type": "code",
   "execution_count": 50,
   "metadata": {
    "colab": {
     "base_uri": "https://localhost:8080/"
    },
    "id": "4d5ygLhlS9c8",
    "outputId": "222259f8-87a8-47f7-d2fb-46b55987b702"
   },
   "outputs": [
    {
     "data": {
      "text/plain": [
       "['SEQ',\n",
       " '접수일',\n",
       " '최초서비스일',\n",
       " '서비스일자',\n",
       " '결재형태',\n",
       " '서비스주소',\n",
       " '주거형태',\n",
       " '평수',\n",
       " '고객가입일',\n",
       " '반려동물',\n",
       " '부재중여부',\n",
       " '우선청소',\n",
       " '매니저생년월일',\n",
       " '매니저성별',\n",
       " '매니저사용휴대폰',\n",
       " '매니저이동방법',\n",
       " '근무가능지역',\n",
       " '접수월',\n",
       " '접수일일',\n",
       " '매니저연령대',\n",
       " '서비스주소_광역',\n",
       " '접수요일',\n",
       " '매니저나이']"
      ]
     },
     "execution_count": 50,
     "metadata": {},
     "output_type": "execute_result"
    }
   ],
   "source": [
    "categorical_columns"
   ]
  },
  {
   "cell_type": "code",
   "execution_count": 51,
   "metadata": {
    "id": "8efYwbWIH_AT"
   },
   "outputs": [],
   "source": [
    "tr1 = tr.drop('SEQ', axis=1)"
   ]
  },
  {
   "cell_type": "code",
   "execution_count": 52,
   "metadata": {
    "id": "NeramM5bH_oY"
   },
   "outputs": [],
   "source": [
    "tr1 = pd.get_dummies(tr1)"
   ]
  },
  {
   "cell_type": "code",
   "execution_count": 53,
   "metadata": {
    "id": "9i5jzNzBIAs9"
   },
   "outputs": [],
   "source": [
    "tr = pd.concat([tr.SEQ,tr1],axis=1)"
   ]
  },
  {
   "cell_type": "code",
   "execution_count": 54,
   "metadata": {
    "id": "gPR9w6y6IBbL"
   },
   "outputs": [],
   "source": [
    "train_data = tr.iloc[:len(train),:]\n",
    "test_data = tr.iloc[len(train):,:]"
   ]
  },
  {
   "cell_type": "code",
   "execution_count": 55,
   "metadata": {
    "id": "AKU0jReGICKS"
   },
   "outputs": [],
   "source": [
    "train_data = train_data.drop('SEQ', axis='columns')\n",
    "test_data = test_data.drop('SEQ', axis='columns')"
   ]
  },
  {
   "cell_type": "code",
   "execution_count": 56,
   "metadata": {
    "id": "k6HIpIoDIC5u"
   },
   "outputs": [],
   "source": [
    "train_label = train.매칭성공여부"
   ]
  },
  {
   "cell_type": "code",
   "execution_count": 57,
   "metadata": {
    "id": "8c4tmu1-IEKm"
   },
   "outputs": [],
   "source": [
    "seed = 42"
   ]
  },
  {
   "cell_type": "code",
   "execution_count": 58,
   "metadata": {
    "id": "-JtSiTRtIE3b"
   },
   "outputs": [],
   "source": [
    "from imblearn.over_sampling import *\n",
    "from imblearn.under_sampling import *\n",
    "from imblearn.combine import *\n",
    "smote = SMOTETomek(sampling_strategy=0.5, random_state=seed)\n",
    "train_data_over,train_label_over = smote.fit_resample(train_data,train_label)"
   ]
  },
  {
   "cell_type": "code",
   "execution_count": 59,
   "metadata": {
    "id": "nqyqhDyy1M3f"
   },
   "outputs": [],
   "source": [
    "# from imblearn.combine import SMOTEENN\n",
    "# smt = SMOTEENN(sampling_strategy=0.5, random_state=42)\n",
    "# # X, y = smt.fit_sample(X, y)\n",
    "# train_data_over,train_label_over = smt.fit_resample(train_data,train_label)"
   ]
  },
  {
   "cell_type": "code",
   "execution_count": 60,
   "metadata": {
    "id": "OOTv9qMWIFkm"
   },
   "outputs": [],
   "source": [
    "train_data_over.reset_index(drop = True, inplace=True)\n",
    "train_label_over.reset_index(drop = True, inplace=True)"
   ]
  },
  {
   "cell_type": "code",
   "execution_count": 61,
   "metadata": {},
   "outputs": [],
   "source": [
    "train_data_over.to_csv('../data/WannaVeteran_train.csv',index=False)\n",
    "test_data.to_csv('../data/WannaVeteran_test.csv',index=False)\n",
    "train_label_over.to_csv('../data/WannaVeteran_train_label.csv',index=False)"
   ]
  },
  {
   "cell_type": "code",
   "execution_count": 62,
   "metadata": {},
   "outputs": [],
   "source": [
    "train_data_over = pd.read_csv('../data/WannaVeteran_train.csv')\n",
    "test_data = pd.read_csv('../data/WannaVeteran_test.csv')\n",
    "train_label = pd.read_csv('../data/WannaVeteran_train_label.csv')"
   ]
  },
  {
   "cell_type": "code",
   "execution_count": 63,
   "metadata": {
    "id": "0KIpFMEfIGnk"
   },
   "outputs": [],
   "source": [
    "n_it = 60\n",
    "random_state=42\n",
    "Kfold = StratifiedKFold(n_splits=5, shuffle=True, random_state=random_state)\n",
    "\n",
    "# 모델 훈련 함수 정의\n",
    "def return_fitted_model(model, train, target):\n",
    "    scores = []\n",
    "    models = []\n",
    "    for iter_count, (train_idx, valid_idx) in enumerate(Kfold.split(train, target)):\n",
    "\n",
    "        X_train, X_valid = train[train_idx], train[valid_idx]\n",
    "        y_train, y_valid = target[train_idx], target[valid_idx]\n",
    "\n",
    "        model.fit(X_train, y_train)\n",
    "\n",
    "        pred = model.predict(X_valid)\n",
    "        ra_score = roc_auc_score(y_valid, pred)\n",
    "        scores.append(ra_score)\n",
    "        models.append(model)\n",
    "    return model, np.mean(scores)\n",
    "\n",
    "# ex: extra_reg, extra_reg_score = return_fitted_model(extra_reg, train, target)\n",
    "# print(f'모델의 평균 성능:  {extra_reg_score:.3f}')"
   ]
  },
  {
   "cell_type": "code",
   "execution_count": 64,
   "metadata": {
    "id": "Sp46I39Y1WUj"
   },
   "outputs": [],
   "source": [
    "model = ExtraTreesClassifier(random_state=seed, n_jobs=-1)"
   ]
  },
  {
   "cell_type": "code",
   "execution_count": 65,
   "metadata": {
    "colab": {
     "base_uri": "https://localhost:8080/"
    },
    "id": "BLIL1tucIJjV",
    "outputId": "318dc143-2b28-45bb-857f-844440912792"
   },
   "outputs": [
    {
     "name": "stdout",
     "output_type": "stream",
     "text": [
      "score:  0.9526012376681855\n"
     ]
    }
   ],
   "source": [
    "model, avg_score = return_fitted_model(model, train_data_over.values, train_label_over.values)\n",
    "print('score: ',avg_score)"
   ]
  },
  {
   "cell_type": "code",
   "execution_count": 66,
   "metadata": {},
   "outputs": [
    {
     "data": {
      "text/plain": [
       "array([0.05, 0.  , 1.  , ..., 0.  , 0.  , 0.22])"
      ]
     },
     "execution_count": 66,
     "metadata": {},
     "output_type": "execute_result"
    }
   ],
   "source": [
    "model.predict_proba(test_data)[:,1]"
   ]
  },
  {
   "cell_type": "code",
   "execution_count": 67,
   "metadata": {
    "id": "lzDFM1iTIJpn"
   },
   "outputs": [],
   "source": [
    "pd.DataFrame({'SEQ': test.SEQ , \n",
    "              'pred': model.predict_proba(test_data)[:,1]}).to_csv(\"../submission/WannaVeteran_submission.csv\", index=False)"
   ]
  }
 ],
 "metadata": {
  "accelerator": "GPU",
  "colab": {
   "collapsed_sections": [],
   "name": "Untitled1.ipynb의 사본",
   "provenance": []
  },
  "kernelspec": {
   "display_name": "Python 3",
   "language": "python",
   "name": "python3"
  },
  "language_info": {
   "codemirror_mode": {
    "name": "ipython",
    "version": 3
   },
   "file_extension": ".py",
   "mimetype": "text/x-python",
   "name": "python",
   "nbconvert_exporter": "python",
   "pygments_lexer": "ipython3",
   "version": "3.8.5"
  }
 },
 "nbformat": 4,
 "nbformat_minor": 1
}
